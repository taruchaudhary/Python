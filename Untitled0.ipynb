{
  "nbformat": 4,
  "nbformat_minor": 0,
  "metadata": {
    "colab": {
      "provenance": [],
      "authorship_tag": "ABX9TyM/ZYLie4xoKMT6j4rrP3iL",
      "include_colab_link": true
    },
    "kernelspec": {
      "name": "python3",
      "display_name": "Python 3"
    },
    "language_info": {
      "name": "python"
    }
  },
  "cells": [
    {
      "cell_type": "markdown",
      "metadata": {
        "id": "view-in-github",
        "colab_type": "text"
      },
      "source": [
        "<a href=\"https://colab.research.google.com/github/taruchaudhary/Python/blob/main/Untitled0.ipynb\" target=\"_parent\"><img src=\"https://colab.research.google.com/assets/colab-badge.svg\" alt=\"Open In Colab\"/></a>"
      ]
    },
    {
      "cell_type": "code",
      "execution_count": null,
      "metadata": {
        "colab": {
          "base_uri": "https://localhost:8080/"
        },
        "id": "-5N2Uks7sJwR",
        "outputId": "df7b99f6-b379-4ee2-85fb-7cce40f9b991"
      },
      "outputs": [
        {
          "output_type": "stream",
          "name": "stdout",
          "text": [
            "number of handshake 45.0\n"
          ]
        }
      ],
      "source": [
        "a = 10\n",
        "b = a*((a-1)/2)\n",
        "print(\"number of handshake\",b)"
      ]
    },
    {
      "cell_type": "code",
      "source": [
        "x=2\n",
        "print(x<<1)"
      ],
      "metadata": {
        "colab": {
          "base_uri": "https://localhost:8080/"
        },
        "id": "NM8TpgWZvAfg",
        "outputId": "7c061636-e8b3-4abf-dec6-952329048a31"
      },
      "execution_count": null,
      "outputs": [
        {
          "output_type": "stream",
          "name": "stdout",
          "text": [
            "4\n"
          ]
        }
      ]
    },
    {
      "cell_type": "code",
      "source": [
        "month=int(input(\"enter number of month: \"))\n",
        "year=int(input(\"enter number of year: \"))\n",
        "if(\"month= 1 or month= 3 or month= 5 or month= 7 or month= 8 or month= 10 or month= 12\"):\n",
        "  print(\"days is 31\")\n",
        "elif(\"month= 6 or month = 4 or month= 11\"):\n",
        "  print(\"days is 30\")\n",
        "elif(\"month= 2 and year%4=0 year%100=0 and year%400=0\"):\n",
        "  print(\"days is 29\")\n",
        "else:\n",
        "  print(\"days is 28\")\n"
      ],
      "metadata": {
        "id": "LbKlrHHQvwLv"
      },
      "execution_count": null,
      "outputs": []
    },
    {
      "cell_type": "code",
      "source": [],
      "metadata": {
        "id": "npqGtyB3viXY"
      },
      "execution_count": null,
      "outputs": []
    }
  ]
}